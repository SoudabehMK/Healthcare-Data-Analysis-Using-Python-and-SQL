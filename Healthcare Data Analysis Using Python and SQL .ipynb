{
 "cells": [
  {
   "cell_type": "markdown",
   "id": "e1857031-ce3d-4614-89a4-3fa9dc43f741",
   "metadata": {},
   "source": [
    "### Import Required Libraries"
   ]
  },
  {
   "cell_type": "code",
   "execution_count": 2,
   "id": "ffdf212b-64b6-4595-9e3f-1472cf2ced9f",
   "metadata": {},
   "outputs": [],
   "source": [
    "import csv, sqlite3\n",
    "%load_ext sql\n",
    "%sql sqlite:///healthcaredataset.db"
   ]
  },
  {
   "cell_type": "code",
   "execution_count": 3,
   "id": "40517bac-4270-410b-9256-e70df241b81c",
   "metadata": {},
   "outputs": [
    {
     "name": "stdout",
     "output_type": "stream",
     "text": [
      "Requirement already satisfied: ipython-sql in d:\\lib\\site-packages (0.5.0)\n",
      "Requirement already satisfied: prettytable in d:\\lib\\site-packages (3.16.0)\n",
      "Requirement already satisfied: ipython in d:\\lib\\site-packages (from ipython-sql) (8.27.0)\n",
      "Requirement already satisfied: sqlalchemy>=2.0 in d:\\lib\\site-packages (from ipython-sql) (2.0.41)\n",
      "Requirement already satisfied: sqlparse in d:\\lib\\site-packages (from ipython-sql) (0.5.3)\n",
      "Requirement already satisfied: six in d:\\lib\\site-packages (from ipython-sql) (1.16.0)\n",
      "Requirement already satisfied: ipython-genutils in d:\\lib\\site-packages (from ipython-sql) (0.2.0)\n",
      "Requirement already satisfied: wcwidth in d:\\lib\\site-packages (from prettytable) (0.2.13)\n",
      "Requirement already satisfied: greenlet>=1 in d:\\lib\\site-packages (from sqlalchemy>=2.0->ipython-sql) (3.2.3)\n",
      "Requirement already satisfied: typing-extensions>=4.6.0 in d:\\lib\\site-packages (from sqlalchemy>=2.0->ipython-sql) (4.14.1)\n",
      "Requirement already satisfied: decorator in d:\\lib\\site-packages (from ipython->ipython-sql) (5.1.1)\n",
      "Requirement already satisfied: jedi>=0.16 in d:\\lib\\site-packages (from ipython->ipython-sql) (0.19.1)\n",
      "Requirement already satisfied: matplotlib-inline in d:\\lib\\site-packages (from ipython->ipython-sql) (0.1.7)\n",
      "Requirement already satisfied: prompt-toolkit<3.1.0,>=3.0.41 in d:\\lib\\site-packages (from ipython->ipython-sql) (3.0.47)\n",
      "Requirement already satisfied: pygments>=2.4.0 in d:\\lib\\site-packages (from ipython->ipython-sql) (2.18.0)\n",
      "Requirement already satisfied: stack-data in d:\\lib\\site-packages (from ipython->ipython-sql) (0.6.3)\n",
      "Requirement already satisfied: traitlets>=5.13.0 in d:\\lib\\site-packages (from ipython->ipython-sql) (5.14.3)\n",
      "Requirement already satisfied: colorama in d:\\lib\\site-packages (from ipython->ipython-sql) (0.4.6)\n",
      "Requirement already satisfied: parso<0.9.0,>=0.8.3 in d:\\lib\\site-packages (from jedi>=0.16->ipython->ipython-sql) (0.8.4)\n",
      "Requirement already satisfied: executing>=1.2.0 in d:\\lib\\site-packages (from stack-data->ipython->ipython-sql) (2.1.0)\n",
      "Requirement already satisfied: asttokens>=2.1.0 in d:\\lib\\site-packages (from stack-data->ipython->ipython-sql) (2.4.1)\n",
      "Requirement already satisfied: pure-eval in d:\\lib\\site-packages (from stack-data->ipython->ipython-sql) (0.2.3)\n"
     ]
    },
    {
     "name": "stderr",
     "output_type": "stream",
     "text": [
      "\n",
      "[notice] A new release of pip is available: 25.0.1 -> 25.1.1\n",
      "[notice] To update, run: python.exe -m pip install --upgrade pip\n"
     ]
    }
   ],
   "source": [
    "!pip install ipython-sql prettytable"
   ]
  },
  {
   "cell_type": "code",
   "execution_count": 4,
   "id": "cb25e092-e606-4ec4-be0b-8434da864047",
   "metadata": {},
   "outputs": [],
   "source": [
    "import prettytable\n",
    "\n",
    "prettytable.DEFAULT = \"DEFAULT\""
   ]
  },
  {
   "cell_type": "markdown",
   "id": "30951d16-efa1-4f83-834c-1f705308abc8",
   "metadata": {},
   "source": [
    "### Connect to sqlite3"
   ]
  },
  {
   "cell_type": "code",
   "execution_count": 5,
   "id": "90d986a5-1a8e-4bde-96fc-fb752ef41fed",
   "metadata": {},
   "outputs": [],
   "source": [
    "con = sqlite3.connect(\"healthcaredataset.db\")\n",
    "cur = con.cursor"
   ]
  },
  {
   "cell_type": "markdown",
   "id": "8ce5d543-fdca-4ba8-abb4-6a1f66a6d0df",
   "metadata": {},
   "source": [
    "### Create Table Using Magic SQL"
   ]
  },
  {
   "cell_type": "code",
   "execution_count": 6,
   "id": "320bb466-5a52-4a67-b8b6-81b111d0b5ff",
   "metadata": {},
   "outputs": [
    {
     "name": "stdout",
     "output_type": "stream",
     "text": [
      " * sqlite:///healthcaredataset.db\n",
      "(sqlite3.OperationalError) table Patients_datasets already exists\n",
      "[SQL: CREATE TABLE Patients_datasets(\n",
      "    Patient_id INTEGER PRIMARY KEY,\n",
      "    Age INTEGER,\n",
      "    Gender CHAR,\n",
      "    Diagnosis VARCHAR(20),\n",
      "    Treatment VARCHAR(20),\n",
      "    Hospitalization_date DATE,\n",
      "    Discharge_date DATE\n",
      ");]\n",
      "(Background on this error at: https://sqlalche.me/e/20/e3q8)\n"
     ]
    }
   ],
   "source": [
    "%%sql \n",
    "CREATE TABLE Patients_datasets(\n",
    "    Patient_id INTEGER PRIMARY KEY,\n",
    "    Age INTEGER,\n",
    "    Gender CHAR,\n",
    "    Diagnosis VARCHAR(20),\n",
    "    Treatment VARCHAR(20),\n",
    "    Hospitalization_date DATE,\n",
    "    Discharge_date DATE\n",
    ");"
   ]
  },
  {
   "cell_type": "markdown",
   "id": "5d562b58-b4a9-4cd1-8f61-8f7c619fa586",
   "metadata": {},
   "source": [
    "### Adding Values to the Table"
   ]
  },
  {
   "cell_type": "code",
   "execution_count": 7,
   "id": "1258d83f-10ff-4e71-807c-7c48149c97f9",
   "metadata": {},
   "outputs": [
    {
     "name": "stdout",
     "output_type": "stream",
     "text": [
      " * sqlite:///healthcaredataset.db\n",
      "(sqlite3.IntegrityError) UNIQUE constraint failed: Patients_datasets.Patient_id\n",
      "[SQL: INSERT INTO Patients_datasets (Patient_id, Age, Gender, Diagnosis, Treatment, Hospitalization_date, Discharge_date) VALUES\n",
      "(1001, 42, \"F\", \"Kidney Failure\", \"Dialysis\", \"2024-05-12\", \"2024-05-15\"),\n",
      "(1002, 38, \"F\", \"Breast Cancer\", \"Surgery\", \"2024-05-11\", \"2024-05-18\"),\n",
      "(1003, 35, \"M\", \"Urinary Tract Infection\", \"Antbiotics\", \"2024-05-03\", \"2024-05-04\"),\n",
      "(1004, 45, \"M\", \"Joint Pain\", \"Physical Therapy\", \"2024-05-01\", \"2024-05-08\"),\n",
      "(1005, 42, \"F\", \"Dehydration\", \"Serum Therapy\", \"2024-05-06\", \"2024-05-06\"),\n",
      "(1006, 53, \"M\", \"Kidney Failure\", \"Dialysis\", \"2024-05-09\", \"2024-05-11\"),\n",
      "(1007, 46, \"F\", \"Brain Tumor\", \"Surgery\", \"2024-05-01\", \"2024-05-18\"),\n",
      "(1008, 58, \"M\", \"Cardiovascular Conjestion\", \"Angioplasty\", \"2024-05-02\", \"2024-05-28\"),\n",
      "(1009, 47, \"F\", \"Breast Cancer\", \"Surgery\", \"2024-05-06\", \"2024-05-16\"),\n",
      "(1010, 36, \"M\", \"Blood Infection\", \"Antibiotics\", \"2024-05-05\", \"2024-05-10\"),\n",
      "(1011, 44, \"F\", \"Joint Pain\", \"Physical Therapy\", \"2024-06-01\", \"2024-06-06\"),\n",
      "(1012, 35, \"M\", \"Diabetes\", \"Insulin Therapy\", \"2024-05-28\", \"2024-06-02\"),\n",
      "(1013, 39, \"M\", \"Urinary Tract Infection\", \"Antibiotics\", \"2024-06-12\", \"2024-06-19\"),\n",
      "(1014, 41, \"F\", \"Breast Cancer\", \"Surgery\", \"2024-06-13\", \"2024-06-22\"),\n",
      "(1015, 56, \"M\", \"Cardiovascular Conjestion\", \"Angioplasty\", \"2024-05-21\", \"2024-06-08\"),\n",
      "(1016, 52, \"F\", \"Blood Infection\", \"Antibiotics\", \"2024-06-10\", \"2024-06-16\");]\n",
      "(Background on this error at: https://sqlalche.me/e/20/gkpj)\n"
     ]
    }
   ],
   "source": [
    "%%sql\n",
    "INSERT INTO Patients_datasets (Patient_id, Age, Gender, Diagnosis, Treatment, Hospitalization_date, Discharge_date) VALUES\n",
    "(1001, 42, \"F\", \"Kidney Failure\", \"Dialysis\", \"2024-05-12\", \"2024-05-15\"),\n",
    "(1002, 38, \"F\", \"Breast Cancer\", \"Surgery\", \"2024-05-11\", \"2024-05-18\"),\n",
    "(1003, 35, \"M\", \"Urinary Tract Infection\", \"Antbiotics\", \"2024-05-03\", \"2024-05-04\"),\n",
    "(1004, 45, \"M\", \"Joint Pain\", \"Physical Therapy\", \"2024-05-01\", \"2024-05-08\"),\n",
    "(1005, 42, \"F\", \"Dehydration\", \"Serum Therapy\", \"2024-05-06\", \"2024-05-06\"),\n",
    "(1006, 53, \"M\", \"Kidney Failure\", \"Dialysis\", \"2024-05-09\", \"2024-05-11\"),\n",
    "(1007, 46, \"F\", \"Brain Tumor\", \"Surgery\", \"2024-05-01\", \"2024-05-18\"),\n",
    "(1008, 58, \"M\", \"Cardiovascular Conjestion\", \"Angioplasty\", \"2024-05-02\", \"2024-05-28\"),\n",
    "(1009, 47, \"F\", \"Breast Cancer\", \"Surgery\", \"2024-05-06\", \"2024-05-16\"),\n",
    "(1010, 36, \"M\", \"Blood Infection\", \"Antibiotics\", \"2024-05-05\", \"2024-05-10\"),\n",
    "(1011, 44, \"F\", \"Joint Pain\", \"Physical Therapy\", \"2024-06-01\", \"2024-06-06\"),\n",
    "(1012, 35, \"M\", \"Diabetes\", \"Insulin Therapy\", \"2024-05-28\", \"2024-06-02\"),\n",
    "(1013, 39, \"M\", \"Urinary Tract Infection\", \"Antibiotics\", \"2024-06-12\", \"2024-06-19\"),\n",
    "(1014, 41, \"F\", \"Breast Cancer\", \"Surgery\", \"2024-06-13\", \"2024-06-22\"),\n",
    "(1015, 56, \"M\", \"Cardiovascular Conjestion\", \"Angioplasty\", \"2024-05-21\", \"2024-06-08\"),\n",
    "(1016, 52, \"F\", \"Blood Infection\", \"Antibiotics\", \"2024-06-10\", \"2024-06-16\");"
   ]
  },
  {
   "cell_type": "code",
   "execution_count": 8,
   "id": "2e0c2999-c124-4445-973a-025c79f0faa3",
   "metadata": {},
   "outputs": [
    {
     "name": "stdout",
     "output_type": "stream",
     "text": [
      " * sqlite:///healthcaredataset.db\n",
      "Done.\n"
     ]
    },
    {
     "data": {
      "text/html": [
       "<table>\n",
       "    <thead>\n",
       "        <tr>\n",
       "            <th>Patient_id</th>\n",
       "            <th>Age</th>\n",
       "            <th>Gender</th>\n",
       "            <th>Diagnosis</th>\n",
       "            <th>Treatment</th>\n",
       "            <th>Hospitalization_date</th>\n",
       "            <th>Discharge_date</th>\n",
       "        </tr>\n",
       "    </thead>\n",
       "    <tbody>\n",
       "        <tr>\n",
       "            <td>1001</td>\n",
       "            <td>42</td>\n",
       "            <td>F</td>\n",
       "            <td>Kidney Failure</td>\n",
       "            <td>Dialysis</td>\n",
       "            <td>2024-05-12</td>\n",
       "            <td>2024-05-15</td>\n",
       "        </tr>\n",
       "        <tr>\n",
       "            <td>1002</td>\n",
       "            <td>38</td>\n",
       "            <td>F</td>\n",
       "            <td>Breast Cancer</td>\n",
       "            <td>Surgery</td>\n",
       "            <td>2024-05-11</td>\n",
       "            <td>2024-05-18</td>\n",
       "        </tr>\n",
       "        <tr>\n",
       "            <td>1003</td>\n",
       "            <td>35</td>\n",
       "            <td>M</td>\n",
       "            <td>Urinary Tract Infection</td>\n",
       "            <td>Antbiotics</td>\n",
       "            <td>2024-05-03</td>\n",
       "            <td>2024-05-04</td>\n",
       "        </tr>\n",
       "        <tr>\n",
       "            <td>1004</td>\n",
       "            <td>45</td>\n",
       "            <td>M</td>\n",
       "            <td>Joint Pain</td>\n",
       "            <td>Physical Therapy</td>\n",
       "            <td>2024-05-01</td>\n",
       "            <td>2024-05-08</td>\n",
       "        </tr>\n",
       "        <tr>\n",
       "            <td>1005</td>\n",
       "            <td>42</td>\n",
       "            <td>F</td>\n",
       "            <td>Dehydration</td>\n",
       "            <td>Serum Therapy</td>\n",
       "            <td>2024-05-06</td>\n",
       "            <td>2024-05-06</td>\n",
       "        </tr>\n",
       "        <tr>\n",
       "            <td>1006</td>\n",
       "            <td>53</td>\n",
       "            <td>M</td>\n",
       "            <td>Kidney Failure</td>\n",
       "            <td>Dialysis</td>\n",
       "            <td>2024-05-09</td>\n",
       "            <td>2024-05-11</td>\n",
       "        </tr>\n",
       "        <tr>\n",
       "            <td>1007</td>\n",
       "            <td>46</td>\n",
       "            <td>F</td>\n",
       "            <td>Brain Tumor</td>\n",
       "            <td>Surgery</td>\n",
       "            <td>2024-05-01</td>\n",
       "            <td>2024-05-18</td>\n",
       "        </tr>\n",
       "        <tr>\n",
       "            <td>1008</td>\n",
       "            <td>58</td>\n",
       "            <td>M</td>\n",
       "            <td>Cardiovascular Conjestion</td>\n",
       "            <td>Angioplasty</td>\n",
       "            <td>2024-05-02</td>\n",
       "            <td>2024-05-28</td>\n",
       "        </tr>\n",
       "        <tr>\n",
       "            <td>1009</td>\n",
       "            <td>47</td>\n",
       "            <td>F</td>\n",
       "            <td>Breast Cancer</td>\n",
       "            <td>Surgery</td>\n",
       "            <td>2024-05-06</td>\n",
       "            <td>2024-05-16</td>\n",
       "        </tr>\n",
       "        <tr>\n",
       "            <td>1010</td>\n",
       "            <td>36</td>\n",
       "            <td>M</td>\n",
       "            <td>Blood Infection</td>\n",
       "            <td>Antibiotics</td>\n",
       "            <td>2024-05-05</td>\n",
       "            <td>2024-05-10</td>\n",
       "        </tr>\n",
       "        <tr>\n",
       "            <td>1011</td>\n",
       "            <td>44</td>\n",
       "            <td>F</td>\n",
       "            <td>Joint Pain</td>\n",
       "            <td>Physical Therapy</td>\n",
       "            <td>2024-06-01</td>\n",
       "            <td>2024-06-06</td>\n",
       "        </tr>\n",
       "        <tr>\n",
       "            <td>1012</td>\n",
       "            <td>35</td>\n",
       "            <td>M</td>\n",
       "            <td>Diabetes</td>\n",
       "            <td>Insulin Therapy</td>\n",
       "            <td>2024-05-28</td>\n",
       "            <td>2024-06-02</td>\n",
       "        </tr>\n",
       "        <tr>\n",
       "            <td>1013</td>\n",
       "            <td>39</td>\n",
       "            <td>M</td>\n",
       "            <td>Urinary Tract Infection</td>\n",
       "            <td>Antibiotics</td>\n",
       "            <td>2024-06-12</td>\n",
       "            <td>2024-06-19</td>\n",
       "        </tr>\n",
       "        <tr>\n",
       "            <td>1014</td>\n",
       "            <td>41</td>\n",
       "            <td>F</td>\n",
       "            <td>Breast Cancer</td>\n",
       "            <td>Surgery</td>\n",
       "            <td>2024-06-13</td>\n",
       "            <td>2024-06-22</td>\n",
       "        </tr>\n",
       "        <tr>\n",
       "            <td>1015</td>\n",
       "            <td>56</td>\n",
       "            <td>M</td>\n",
       "            <td>Cardiovascular Conjestion</td>\n",
       "            <td>Angioplasty</td>\n",
       "            <td>2024-05-21</td>\n",
       "            <td>2024-06-08</td>\n",
       "        </tr>\n",
       "        <tr>\n",
       "            <td>1016</td>\n",
       "            <td>52</td>\n",
       "            <td>F</td>\n",
       "            <td>Blood Infection</td>\n",
       "            <td>Antibiotics</td>\n",
       "            <td>2024-06-10</td>\n",
       "            <td>2024-06-16</td>\n",
       "        </tr>\n",
       "    </tbody>\n",
       "</table>"
      ],
      "text/plain": [
       "[(1001, 42, 'F', 'Kidney Failure', 'Dialysis', '2024-05-12', '2024-05-15'),\n",
       " (1002, 38, 'F', 'Breast Cancer', 'Surgery', '2024-05-11', '2024-05-18'),\n",
       " (1003, 35, 'M', 'Urinary Tract Infection', 'Antbiotics', '2024-05-03', '2024-05-04'),\n",
       " (1004, 45, 'M', 'Joint Pain', 'Physical Therapy', '2024-05-01', '2024-05-08'),\n",
       " (1005, 42, 'F', 'Dehydration', 'Serum Therapy', '2024-05-06', '2024-05-06'),\n",
       " (1006, 53, 'M', 'Kidney Failure', 'Dialysis', '2024-05-09', '2024-05-11'),\n",
       " (1007, 46, 'F', 'Brain Tumor', 'Surgery', '2024-05-01', '2024-05-18'),\n",
       " (1008, 58, 'M', 'Cardiovascular Conjestion', 'Angioplasty', '2024-05-02', '2024-05-28'),\n",
       " (1009, 47, 'F', 'Breast Cancer', 'Surgery', '2024-05-06', '2024-05-16'),\n",
       " (1010, 36, 'M', 'Blood Infection', 'Antibiotics', '2024-05-05', '2024-05-10'),\n",
       " (1011, 44, 'F', 'Joint Pain', 'Physical Therapy', '2024-06-01', '2024-06-06'),\n",
       " (1012, 35, 'M', 'Diabetes', 'Insulin Therapy', '2024-05-28', '2024-06-02'),\n",
       " (1013, 39, 'M', 'Urinary Tract Infection', 'Antibiotics', '2024-06-12', '2024-06-19'),\n",
       " (1014, 41, 'F', 'Breast Cancer', 'Surgery', '2024-06-13', '2024-06-22'),\n",
       " (1015, 56, 'M', 'Cardiovascular Conjestion', 'Angioplasty', '2024-05-21', '2024-06-08'),\n",
       " (1016, 52, 'F', 'Blood Infection', 'Antibiotics', '2024-06-10', '2024-06-16')]"
      ]
     },
     "execution_count": 8,
     "metadata": {},
     "output_type": "execute_result"
    }
   ],
   "source": [
    "%%sql\n",
    "SELECT * FROM Patients_datasets;"
   ]
  },
  {
   "cell_type": "markdown",
   "id": "805fc6df-0975-4425-94f1-0825ca8d4d3f",
   "metadata": {},
   "source": [
    "### Retrieve all patients in the order of hospitalization date?"
   ]
  },
  {
   "cell_type": "code",
   "execution_count": 9,
   "id": "09a30246-610b-44e9-8324-482ace360cc2",
   "metadata": {},
   "outputs": [
    {
     "name": "stdout",
     "output_type": "stream",
     "text": [
      " * sqlite:///healthcaredataset.db\n",
      "Done.\n"
     ]
    },
    {
     "data": {
      "text/html": [
       "<table>\n",
       "    <thead>\n",
       "        <tr>\n",
       "            <th>Patient_id</th>\n",
       "            <th>Age</th>\n",
       "            <th>Gender</th>\n",
       "            <th>Diagnosis</th>\n",
       "            <th>Treatment</th>\n",
       "            <th>Hospitalization_date</th>\n",
       "            <th>Discharge_date</th>\n",
       "        </tr>\n",
       "    </thead>\n",
       "    <tbody>\n",
       "        <tr>\n",
       "            <td>1004</td>\n",
       "            <td>45</td>\n",
       "            <td>M</td>\n",
       "            <td>Joint Pain</td>\n",
       "            <td>Physical Therapy</td>\n",
       "            <td>2024-05-01</td>\n",
       "            <td>2024-05-08</td>\n",
       "        </tr>\n",
       "        <tr>\n",
       "            <td>1007</td>\n",
       "            <td>46</td>\n",
       "            <td>F</td>\n",
       "            <td>Brain Tumor</td>\n",
       "            <td>Surgery</td>\n",
       "            <td>2024-05-01</td>\n",
       "            <td>2024-05-18</td>\n",
       "        </tr>\n",
       "        <tr>\n",
       "            <td>1008</td>\n",
       "            <td>58</td>\n",
       "            <td>M</td>\n",
       "            <td>Cardiovascular Conjestion</td>\n",
       "            <td>Angioplasty</td>\n",
       "            <td>2024-05-02</td>\n",
       "            <td>2024-05-28</td>\n",
       "        </tr>\n",
       "        <tr>\n",
       "            <td>1003</td>\n",
       "            <td>35</td>\n",
       "            <td>M</td>\n",
       "            <td>Urinary Tract Infection</td>\n",
       "            <td>Antbiotics</td>\n",
       "            <td>2024-05-03</td>\n",
       "            <td>2024-05-04</td>\n",
       "        </tr>\n",
       "        <tr>\n",
       "            <td>1010</td>\n",
       "            <td>36</td>\n",
       "            <td>M</td>\n",
       "            <td>Blood Infection</td>\n",
       "            <td>Antibiotics</td>\n",
       "            <td>2024-05-05</td>\n",
       "            <td>2024-05-10</td>\n",
       "        </tr>\n",
       "        <tr>\n",
       "            <td>1005</td>\n",
       "            <td>42</td>\n",
       "            <td>F</td>\n",
       "            <td>Dehydration</td>\n",
       "            <td>Serum Therapy</td>\n",
       "            <td>2024-05-06</td>\n",
       "            <td>2024-05-06</td>\n",
       "        </tr>\n",
       "        <tr>\n",
       "            <td>1009</td>\n",
       "            <td>47</td>\n",
       "            <td>F</td>\n",
       "            <td>Breast Cancer</td>\n",
       "            <td>Surgery</td>\n",
       "            <td>2024-05-06</td>\n",
       "            <td>2024-05-16</td>\n",
       "        </tr>\n",
       "        <tr>\n",
       "            <td>1006</td>\n",
       "            <td>53</td>\n",
       "            <td>M</td>\n",
       "            <td>Kidney Failure</td>\n",
       "            <td>Dialysis</td>\n",
       "            <td>2024-05-09</td>\n",
       "            <td>2024-05-11</td>\n",
       "        </tr>\n",
       "        <tr>\n",
       "            <td>1002</td>\n",
       "            <td>38</td>\n",
       "            <td>F</td>\n",
       "            <td>Breast Cancer</td>\n",
       "            <td>Surgery</td>\n",
       "            <td>2024-05-11</td>\n",
       "            <td>2024-05-18</td>\n",
       "        </tr>\n",
       "        <tr>\n",
       "            <td>1001</td>\n",
       "            <td>42</td>\n",
       "            <td>F</td>\n",
       "            <td>Kidney Failure</td>\n",
       "            <td>Dialysis</td>\n",
       "            <td>2024-05-12</td>\n",
       "            <td>2024-05-15</td>\n",
       "        </tr>\n",
       "        <tr>\n",
       "            <td>1015</td>\n",
       "            <td>56</td>\n",
       "            <td>M</td>\n",
       "            <td>Cardiovascular Conjestion</td>\n",
       "            <td>Angioplasty</td>\n",
       "            <td>2024-05-21</td>\n",
       "            <td>2024-06-08</td>\n",
       "        </tr>\n",
       "        <tr>\n",
       "            <td>1012</td>\n",
       "            <td>35</td>\n",
       "            <td>M</td>\n",
       "            <td>Diabetes</td>\n",
       "            <td>Insulin Therapy</td>\n",
       "            <td>2024-05-28</td>\n",
       "            <td>2024-06-02</td>\n",
       "        </tr>\n",
       "        <tr>\n",
       "            <td>1011</td>\n",
       "            <td>44</td>\n",
       "            <td>F</td>\n",
       "            <td>Joint Pain</td>\n",
       "            <td>Physical Therapy</td>\n",
       "            <td>2024-06-01</td>\n",
       "            <td>2024-06-06</td>\n",
       "        </tr>\n",
       "        <tr>\n",
       "            <td>1016</td>\n",
       "            <td>52</td>\n",
       "            <td>F</td>\n",
       "            <td>Blood Infection</td>\n",
       "            <td>Antibiotics</td>\n",
       "            <td>2024-06-10</td>\n",
       "            <td>2024-06-16</td>\n",
       "        </tr>\n",
       "        <tr>\n",
       "            <td>1013</td>\n",
       "            <td>39</td>\n",
       "            <td>M</td>\n",
       "            <td>Urinary Tract Infection</td>\n",
       "            <td>Antibiotics</td>\n",
       "            <td>2024-06-12</td>\n",
       "            <td>2024-06-19</td>\n",
       "        </tr>\n",
       "        <tr>\n",
       "            <td>1014</td>\n",
       "            <td>41</td>\n",
       "            <td>F</td>\n",
       "            <td>Breast Cancer</td>\n",
       "            <td>Surgery</td>\n",
       "            <td>2024-06-13</td>\n",
       "            <td>2024-06-22</td>\n",
       "        </tr>\n",
       "    </tbody>\n",
       "</table>"
      ],
      "text/plain": [
       "[(1004, 45, 'M', 'Joint Pain', 'Physical Therapy', '2024-05-01', '2024-05-08'),\n",
       " (1007, 46, 'F', 'Brain Tumor', 'Surgery', '2024-05-01', '2024-05-18'),\n",
       " (1008, 58, 'M', 'Cardiovascular Conjestion', 'Angioplasty', '2024-05-02', '2024-05-28'),\n",
       " (1003, 35, 'M', 'Urinary Tract Infection', 'Antbiotics', '2024-05-03', '2024-05-04'),\n",
       " (1010, 36, 'M', 'Blood Infection', 'Antibiotics', '2024-05-05', '2024-05-10'),\n",
       " (1005, 42, 'F', 'Dehydration', 'Serum Therapy', '2024-05-06', '2024-05-06'),\n",
       " (1009, 47, 'F', 'Breast Cancer', 'Surgery', '2024-05-06', '2024-05-16'),\n",
       " (1006, 53, 'M', 'Kidney Failure', 'Dialysis', '2024-05-09', '2024-05-11'),\n",
       " (1002, 38, 'F', 'Breast Cancer', 'Surgery', '2024-05-11', '2024-05-18'),\n",
       " (1001, 42, 'F', 'Kidney Failure', 'Dialysis', '2024-05-12', '2024-05-15'),\n",
       " (1015, 56, 'M', 'Cardiovascular Conjestion', 'Angioplasty', '2024-05-21', '2024-06-08'),\n",
       " (1012, 35, 'M', 'Diabetes', 'Insulin Therapy', '2024-05-28', '2024-06-02'),\n",
       " (1011, 44, 'F', 'Joint Pain', 'Physical Therapy', '2024-06-01', '2024-06-06'),\n",
       " (1016, 52, 'F', 'Blood Infection', 'Antibiotics', '2024-06-10', '2024-06-16'),\n",
       " (1013, 39, 'M', 'Urinary Tract Infection', 'Antibiotics', '2024-06-12', '2024-06-19'),\n",
       " (1014, 41, 'F', 'Breast Cancer', 'Surgery', '2024-06-13', '2024-06-22')]"
      ]
     },
     "execution_count": 9,
     "metadata": {},
     "output_type": "execute_result"
    }
   ],
   "source": [
    "%%sql\n",
    "SELECT * FROM Patients_datasets\n",
    "ORDER BY Hospitalization_date;"
   ]
  },
  {
   "cell_type": "markdown",
   "id": "da71c53f-6f5d-43a1-98e6-938de4c7ee00",
   "metadata": {},
   "source": [
    "### Calculate the average age of all patients in each category of diseases?"
   ]
  },
  {
   "cell_type": "code",
   "execution_count": 10,
   "id": "7ba0bd83-3e93-420b-bdc2-3770e9ef6ce4",
   "metadata": {},
   "outputs": [
    {
     "name": "stdout",
     "output_type": "stream",
     "text": [
      " * sqlite:///healthcaredataset.db\n",
      "Done.\n"
     ]
    },
    {
     "data": {
      "text/html": [
       "<table>\n",
       "    <thead>\n",
       "        <tr>\n",
       "            <th>Patient_id</th>\n",
       "            <th>Diagnosis</th>\n",
       "            <th>Age_average</th>\n",
       "        </tr>\n",
       "    </thead>\n",
       "    <tbody>\n",
       "        <tr>\n",
       "            <td>1010</td>\n",
       "            <td>Blood Infection</td>\n",
       "            <td>44.0</td>\n",
       "        </tr>\n",
       "        <tr>\n",
       "            <td>1007</td>\n",
       "            <td>Brain Tumor</td>\n",
       "            <td>46.0</td>\n",
       "        </tr>\n",
       "        <tr>\n",
       "            <td>1002</td>\n",
       "            <td>Breast Cancer</td>\n",
       "            <td>42.0</td>\n",
       "        </tr>\n",
       "        <tr>\n",
       "            <td>1008</td>\n",
       "            <td>Cardiovascular Conjestion</td>\n",
       "            <td>57.0</td>\n",
       "        </tr>\n",
       "        <tr>\n",
       "            <td>1005</td>\n",
       "            <td>Dehydration</td>\n",
       "            <td>42.0</td>\n",
       "        </tr>\n",
       "        <tr>\n",
       "            <td>1012</td>\n",
       "            <td>Diabetes</td>\n",
       "            <td>35.0</td>\n",
       "        </tr>\n",
       "        <tr>\n",
       "            <td>1004</td>\n",
       "            <td>Joint Pain</td>\n",
       "            <td>44.5</td>\n",
       "        </tr>\n",
       "        <tr>\n",
       "            <td>1001</td>\n",
       "            <td>Kidney Failure</td>\n",
       "            <td>47.5</td>\n",
       "        </tr>\n",
       "        <tr>\n",
       "            <td>1003</td>\n",
       "            <td>Urinary Tract Infection</td>\n",
       "            <td>37.0</td>\n",
       "        </tr>\n",
       "    </tbody>\n",
       "</table>"
      ],
      "text/plain": [
       "[(1010, 'Blood Infection', 44.0),\n",
       " (1007, 'Brain Tumor', 46.0),\n",
       " (1002, 'Breast Cancer', 42.0),\n",
       " (1008, 'Cardiovascular Conjestion', 57.0),\n",
       " (1005, 'Dehydration', 42.0),\n",
       " (1012, 'Diabetes', 35.0),\n",
       " (1004, 'Joint Pain', 44.5),\n",
       " (1001, 'Kidney Failure', 47.5),\n",
       " (1003, 'Urinary Tract Infection', 37.0)]"
      ]
     },
     "execution_count": 10,
     "metadata": {},
     "output_type": "execute_result"
    }
   ],
   "source": [
    "%%sql\n",
    "SELECT Patient_id, Diagnosis, AVG(Age) AS Age_average\n",
    "FROM Patients_datasets\n",
    "GROUP BY Diagnosis;"
   ]
  },
  {
   "cell_type": "markdown",
   "id": "939328b6-117a-42d8-b737-1d6f2e2b573f",
   "metadata": {},
   "source": [
    "### Which patients stay more than one week in the hospital ?"
   ]
  },
  {
   "cell_type": "code",
   "execution_count": 11,
   "id": "12720783-38c7-44b2-835a-08e56b0bc803",
   "metadata": {},
   "outputs": [
    {
     "name": "stdout",
     "output_type": "stream",
     "text": [
      " * sqlite:///healthcaredataset.db\n",
      "Done.\n"
     ]
    },
    {
     "data": {
      "text/html": [
       "<table>\n",
       "    <thead>\n",
       "        <tr>\n",
       "            <th>Patient_id</th>\n",
       "            <th>Stay_duration</th>\n",
       "        </tr>\n",
       "    </thead>\n",
       "    <tbody>\n",
       "        <tr>\n",
       "            <td>1014</td>\n",
       "            <td>9.0</td>\n",
       "        </tr>\n",
       "        <tr>\n",
       "            <td>1009</td>\n",
       "            <td>10.0</td>\n",
       "        </tr>\n",
       "        <tr>\n",
       "            <td>1007</td>\n",
       "            <td>17.0</td>\n",
       "        </tr>\n",
       "        <tr>\n",
       "            <td>1015</td>\n",
       "            <td>18.0</td>\n",
       "        </tr>\n",
       "        <tr>\n",
       "            <td>1008</td>\n",
       "            <td>26.0</td>\n",
       "        </tr>\n",
       "    </tbody>\n",
       "</table>"
      ],
      "text/plain": [
       "[(1014, 9.0), (1009, 10.0), (1007, 17.0), (1015, 18.0), (1008, 26.0)]"
      ]
     },
     "execution_count": 11,
     "metadata": {},
     "output_type": "execute_result"
    }
   ],
   "source": [
    "%%sql\n",
    "SELECT Patient_id, \n",
    "ROUND(julianday(Discharge_date) - julianday(Hospitalization_date)) AS Stay_duration\n",
    "FROM Patients_datasets\n",
    "WHERE julianday(Discharge_date) - julianday(Hospitalization_date) >  7\n",
    "ORDER BY Stay_duration;"
   ]
  },
  {
   "cell_type": "markdown",
   "id": "9d0be3bc-fe59-4e18-a683-0b9b704cf854",
   "metadata": {},
   "source": [
    "### Which Patients discharged before June?"
   ]
  },
  {
   "cell_type": "code",
   "execution_count": 12,
   "id": "42cae60e-691b-420d-a980-30d1c4a4a4a1",
   "metadata": {},
   "outputs": [
    {
     "name": "stdout",
     "output_type": "stream",
     "text": [
      " * sqlite:///healthcaredataset.db\n",
      "Done.\n"
     ]
    },
    {
     "data": {
      "text/html": [
       "<table>\n",
       "    <thead>\n",
       "        <tr>\n",
       "            <th>Patient_id</th>\n",
       "            <th>Discharge_date</th>\n",
       "        </tr>\n",
       "    </thead>\n",
       "    <tbody>\n",
       "        <tr>\n",
       "            <td>1003</td>\n",
       "            <td>2024-05-04</td>\n",
       "        </tr>\n",
       "        <tr>\n",
       "            <td>1005</td>\n",
       "            <td>2024-05-06</td>\n",
       "        </tr>\n",
       "        <tr>\n",
       "            <td>1004</td>\n",
       "            <td>2024-05-08</td>\n",
       "        </tr>\n",
       "        <tr>\n",
       "            <td>1010</td>\n",
       "            <td>2024-05-10</td>\n",
       "        </tr>\n",
       "        <tr>\n",
       "            <td>1006</td>\n",
       "            <td>2024-05-11</td>\n",
       "        </tr>\n",
       "        <tr>\n",
       "            <td>1001</td>\n",
       "            <td>2024-05-15</td>\n",
       "        </tr>\n",
       "        <tr>\n",
       "            <td>1009</td>\n",
       "            <td>2024-05-16</td>\n",
       "        </tr>\n",
       "        <tr>\n",
       "            <td>1002</td>\n",
       "            <td>2024-05-18</td>\n",
       "        </tr>\n",
       "        <tr>\n",
       "            <td>1007</td>\n",
       "            <td>2024-05-18</td>\n",
       "        </tr>\n",
       "        <tr>\n",
       "            <td>1008</td>\n",
       "            <td>2024-05-28</td>\n",
       "        </tr>\n",
       "    </tbody>\n",
       "</table>"
      ],
      "text/plain": [
       "[(1003, '2024-05-04'),\n",
       " (1005, '2024-05-06'),\n",
       " (1004, '2024-05-08'),\n",
       " (1010, '2024-05-10'),\n",
       " (1006, '2024-05-11'),\n",
       " (1001, '2024-05-15'),\n",
       " (1009, '2024-05-16'),\n",
       " (1002, '2024-05-18'),\n",
       " (1007, '2024-05-18'),\n",
       " (1008, '2024-05-28')]"
      ]
     },
     "execution_count": 12,
     "metadata": {},
     "output_type": "execute_result"
    }
   ],
   "source": [
    "%%sql\n",
    "SELECT Patient_id, Discharge_date\n",
    "FROM Patients_datasets\n",
    "WHERE Discharge_date < \"2024-06-01\"\n",
    "ORDER BY Discharge_date;"
   ]
  },
  {
   "cell_type": "markdown",
   "id": "dc17856e-5ef6-4779-9e46-7d50e145a6e5",
   "metadata": {},
   "source": [
    "### Which Diagnosis have average stay more than 7 days?"
   ]
  },
  {
   "cell_type": "code",
   "execution_count": 13,
   "id": "113785c9-5a58-4f09-a522-29dfdbcba98f",
   "metadata": {},
   "outputs": [
    {
     "name": "stdout",
     "output_type": "stream",
     "text": [
      " * sqlite:///healthcaredataset.db\n",
      "Done.\n"
     ]
    },
    {
     "data": {
      "text/html": [
       "<table>\n",
       "    <thead>\n",
       "        <tr>\n",
       "            <th>Patient_id</th>\n",
       "            <th>Diagnosis</th>\n",
       "            <th>Average_duration_stay</th>\n",
       "        </tr>\n",
       "    </thead>\n",
       "    <tbody>\n",
       "        <tr>\n",
       "            <td>1002</td>\n",
       "            <td>Breast Cancer</td>\n",
       "            <td>8.7</td>\n",
       "        </tr>\n",
       "        <tr>\n",
       "            <td>1007</td>\n",
       "            <td>Brain Tumor</td>\n",
       "            <td>17.0</td>\n",
       "        </tr>\n",
       "        <tr>\n",
       "            <td>1008</td>\n",
       "            <td>Cardiovascular Conjestion</td>\n",
       "            <td>22.0</td>\n",
       "        </tr>\n",
       "    </tbody>\n",
       "</table>"
      ],
      "text/plain": [
       "[(1002, 'Breast Cancer', 8.7),\n",
       " (1007, 'Brain Tumor', 17.0),\n",
       " (1008, 'Cardiovascular Conjestion', 22.0)]"
      ]
     },
     "execution_count": 13,
     "metadata": {},
     "output_type": "execute_result"
    }
   ],
   "source": [
    "%%sql \n",
    "SELECT Patient_id, Diagnosis, ROUND(AVG(julianday(Discharge_date) - julianday(Hospitalization_date)), 1) AS Average_duration_stay\n",
    "FROM Patients_datasets\n",
    "GROUP BY Diagnosis\n",
    "HAVING AVG(julianday(Discharge_date) - julianday(Hospitalization_date)) > 7\n",
    "ORDER BY Average_duration_stay;"
   ]
  },
  {
   "cell_type": "markdown",
   "id": "18bc636b-d8ad-4d7e-bcd8-7b8bb74bdf1a",
   "metadata": {},
   "source": [
    "### Which diagnoses have average stay over 5 days and average patients age over 40?"
   ]
  },
  {
   "cell_type": "code",
   "execution_count": 15,
   "id": "70cff13e-1797-4ca6-8a99-2cd94dbcc668",
   "metadata": {},
   "outputs": [
    {
     "name": "stdout",
     "output_type": "stream",
     "text": [
      " * sqlite:///healthcaredataset.db\n",
      "Done.\n"
     ]
    },
    {
     "data": {
      "text/html": [
       "<table>\n",
       "    <thead>\n",
       "        <tr>\n",
       "            <th>Diagnosis</th>\n",
       "            <th>Average_age</th>\n",
       "            <th>Average_duration_stay</th>\n",
       "        </tr>\n",
       "    </thead>\n",
       "    <tbody>\n",
       "        <tr>\n",
       "            <td>Blood Infection</td>\n",
       "            <td>44.0</td>\n",
       "            <td>5.5</td>\n",
       "        </tr>\n",
       "        <tr>\n",
       "            <td>Brain Tumor</td>\n",
       "            <td>46.0</td>\n",
       "            <td>17.0</td>\n",
       "        </tr>\n",
       "        <tr>\n",
       "            <td>Breast Cancer</td>\n",
       "            <td>42.0</td>\n",
       "            <td>8.7</td>\n",
       "        </tr>\n",
       "        <tr>\n",
       "            <td>Cardiovascular Conjestion</td>\n",
       "            <td>57.0</td>\n",
       "            <td>22.0</td>\n",
       "        </tr>\n",
       "        <tr>\n",
       "            <td>Joint Pain</td>\n",
       "            <td>44.5</td>\n",
       "            <td>6.0</td>\n",
       "        </tr>\n",
       "    </tbody>\n",
       "</table>"
      ],
      "text/plain": [
       "[('Blood Infection', 44.0, 5.5),\n",
       " ('Brain Tumor', 46.0, 17.0),\n",
       " ('Breast Cancer', 42.0, 8.7),\n",
       " ('Cardiovascular Conjestion', 57.0, 22.0),\n",
       " ('Joint Pain', 44.5, 6.0)]"
      ]
     },
     "execution_count": 15,
     "metadata": {},
     "output_type": "execute_result"
    }
   ],
   "source": [
    "%%sql\n",
    "SELECT Diagnosis, AVG(Age) AS Average_age, ROUND(AVG(julianday(Discharge_date) - julianday(Hospitalization_date)), 1) AS Average_duration_stay\n",
    "FROM Patients_datasets\n",
    "GROUP BY Diagnosis\n",
    "HAVING AVG(Age) > 40 AND AVG(julianday(Discharge_date) - julianday(Hospitalization_date)) > 5;"
   ]
  },
  {
   "cell_type": "markdown",
   "id": "9428e879-6006-4b97-ba79-d1b34ad7c1c0",
   "metadata": {},
   "source": [
    "### Which gender has a higher average hospitalization?"
   ]
  },
  {
   "cell_type": "code",
   "execution_count": 16,
   "id": "f2d97130-73c7-43ee-b598-b787817e5c51",
   "metadata": {},
   "outputs": [
    {
     "name": "stdout",
     "output_type": "stream",
     "text": [
      " * sqlite:///healthcaredataset.db\n",
      "Done.\n"
     ]
    },
    {
     "data": {
      "text/html": [
       "<table>\n",
       "    <thead>\n",
       "        <tr>\n",
       "            <th>Gender</th>\n",
       "            <th>Average_duration_stay</th>\n",
       "        </tr>\n",
       "    </thead>\n",
       "    <tbody>\n",
       "        <tr>\n",
       "            <td>F</td>\n",
       "            <td>7.1</td>\n",
       "        </tr>\n",
       "        <tr>\n",
       "            <td>M</td>\n",
       "            <td>8.9</td>\n",
       "        </tr>\n",
       "    </tbody>\n",
       "</table>"
      ],
      "text/plain": [
       "[('F', 7.1), ('M', 8.9)]"
      ]
     },
     "execution_count": 16,
     "metadata": {},
     "output_type": "execute_result"
    }
   ],
   "source": [
    "%%sql\n",
    "SELECT Gender, ROUND(AVG(julianday(Discharge_date) - julianday(Hospitalization_date)), 1) AS Average_duration_stay\n",
    "FROM Patients_datasets\n",
    "GROUP BY Gender\n",
    "HAVING COUNT(*) >= 2;"
   ]
  },
  {
   "cell_type": "markdown",
   "id": "51d473a6-0166-486a-ba06-e9e1bb8d5e53",
   "metadata": {},
   "source": [
    "### Which diagnoses have hospitalization stay longer than average stay in the hospital?"
   ]
  },
  {
   "cell_type": "code",
   "execution_count": 17,
   "id": "27a649ef-59ff-4021-b87a-a4fc5a602c6c",
   "metadata": {},
   "outputs": [
    {
     "name": "stdout",
     "output_type": "stream",
     "text": [
      " * sqlite:///healthcaredataset.db\n",
      "Done.\n"
     ]
    },
    {
     "data": {
      "text/html": [
       "<table>\n",
       "    <thead>\n",
       "        <tr>\n",
       "            <th>Diagnosis</th>\n",
       "            <th>Average_duration_stay</th>\n",
       "        </tr>\n",
       "    </thead>\n",
       "    <tbody>\n",
       "        <tr>\n",
       "            <td>Brain Tumor</td>\n",
       "            <td>16.0</td>\n",
       "        </tr>\n",
       "    </tbody>\n",
       "</table>"
      ],
      "text/plain": [
       "[('Brain Tumor', 16.0)]"
      ]
     },
     "execution_count": 17,
     "metadata": {},
     "output_type": "execute_result"
    }
   ],
   "source": [
    "%%sql\n",
    "SELECT Diagnosis, ROUND(AVG(julianday(Discharge_date) - julianday(Hospitalization_date)), 1) Average_duration_stay\n",
    "FROM Patients_datasets \n",
    "WHERE (julianday(Discharge_date) - julianday(Hospitalization_date)) > \n",
    "(SELECT AVG(julianday(Discharge_date) - julianday(Hospitalization_date)) FROM Patients_datasets)\n",
    "ORDER BY Hospitalization_date;"
   ]
  }
 ],
 "metadata": {
  "kernelspec": {
   "display_name": "Python 3 (ipykernel)",
   "language": "python",
   "name": "python3"
  },
  "language_info": {
   "codemirror_mode": {
    "name": "ipython",
    "version": 3
   },
   "file_extension": ".py",
   "mimetype": "text/x-python",
   "name": "python",
   "nbconvert_exporter": "python",
   "pygments_lexer": "ipython3",
   "version": "3.12.6"
  }
 },
 "nbformat": 4,
 "nbformat_minor": 5
}
